{
 "cells": [
  {
   "cell_type": "markdown",
   "id": "fb636de8",
   "metadata": {},
   "source": [
    "### Salary Prediction Software Developer: Data from Stack Overflow Annual Developer Survey 2021\n",
    "\n",
    "#### Predicting a continues value using a regression in model machine learning. The salary will be based on real data points as:\n",
    "- Country\n",
    "- Profession (Job type)\n",
    "- Education level\n",
    "- Year of experience"
   ]
  },
  {
   "cell_type": "markdown",
   "id": "dc00185c",
   "metadata": {},
   "source": [
    "### Import Libraries & Load the Dataset"
   ]
  },
  {
   "cell_type": "code",
   "execution_count": 1,
   "id": "f40cacd6",
   "metadata": {},
   "outputs": [],
   "source": [
    "import pandas as pd\n",
    "import numpy as np\n",
    "import matplotlib.pyplot as plt\n",
    "import seaborn as sns"
   ]
  },
  {
   "cell_type": "code",
   "execution_count": 2,
   "id": "ccabfca1",
   "metadata": {},
   "outputs": [
    {
     "data": {
      "text/html": [
       "<div>\n",
       "<style scoped>\n",
       "    .dataframe tbody tr th:only-of-type {\n",
       "        vertical-align: middle;\n",
       "    }\n",
       "\n",
       "    .dataframe tbody tr th {\n",
       "        vertical-align: top;\n",
       "    }\n",
       "\n",
       "    .dataframe thead th {\n",
       "        text-align: right;\n",
       "    }\n",
       "</style>\n",
       "<table border=\"1\" class=\"dataframe\">\n",
       "  <thead>\n",
       "    <tr style=\"text-align: right;\">\n",
       "      <th></th>\n",
       "      <th>ResponseId</th>\n",
       "      <th>MainBranch</th>\n",
       "      <th>Employment</th>\n",
       "      <th>Country</th>\n",
       "      <th>US_State</th>\n",
       "      <th>UK_Country</th>\n",
       "      <th>EdLevel</th>\n",
       "      <th>Age1stCode</th>\n",
       "      <th>LearnCode</th>\n",
       "      <th>YearsCode</th>\n",
       "      <th>...</th>\n",
       "      <th>Age</th>\n",
       "      <th>Gender</th>\n",
       "      <th>Trans</th>\n",
       "      <th>Sexuality</th>\n",
       "      <th>Ethnicity</th>\n",
       "      <th>Accessibility</th>\n",
       "      <th>MentalHealth</th>\n",
       "      <th>SurveyLength</th>\n",
       "      <th>SurveyEase</th>\n",
       "      <th>ConvertedCompYearly</th>\n",
       "    </tr>\n",
       "  </thead>\n",
       "  <tbody>\n",
       "    <tr>\n",
       "      <th>0</th>\n",
       "      <td>1</td>\n",
       "      <td>I am a developer by profession</td>\n",
       "      <td>Independent contractor, freelancer, or self-em...</td>\n",
       "      <td>Slovakia</td>\n",
       "      <td>NaN</td>\n",
       "      <td>NaN</td>\n",
       "      <td>Secondary school (e.g. American high school, G...</td>\n",
       "      <td>18 - 24 years</td>\n",
       "      <td>Coding Bootcamp;Other online resources (ex: vi...</td>\n",
       "      <td>NaN</td>\n",
       "      <td>...</td>\n",
       "      <td>25-34 years old</td>\n",
       "      <td>Man</td>\n",
       "      <td>No</td>\n",
       "      <td>Straight / Heterosexual</td>\n",
       "      <td>White or of European descent</td>\n",
       "      <td>None of the above</td>\n",
       "      <td>None of the above</td>\n",
       "      <td>Appropriate in length</td>\n",
       "      <td>Easy</td>\n",
       "      <td>62268.0</td>\n",
       "    </tr>\n",
       "    <tr>\n",
       "      <th>1</th>\n",
       "      <td>2</td>\n",
       "      <td>I am a student who is learning to code</td>\n",
       "      <td>Student, full-time</td>\n",
       "      <td>Netherlands</td>\n",
       "      <td>NaN</td>\n",
       "      <td>NaN</td>\n",
       "      <td>Bachelor’s degree (B.A., B.S., B.Eng., etc.)</td>\n",
       "      <td>11 - 17 years</td>\n",
       "      <td>Other online resources (ex: videos, blogs, etc...</td>\n",
       "      <td>7</td>\n",
       "      <td>...</td>\n",
       "      <td>18-24 years old</td>\n",
       "      <td>Man</td>\n",
       "      <td>No</td>\n",
       "      <td>Straight / Heterosexual</td>\n",
       "      <td>White or of European descent</td>\n",
       "      <td>None of the above</td>\n",
       "      <td>None of the above</td>\n",
       "      <td>Appropriate in length</td>\n",
       "      <td>Easy</td>\n",
       "      <td>NaN</td>\n",
       "    </tr>\n",
       "    <tr>\n",
       "      <th>2</th>\n",
       "      <td>3</td>\n",
       "      <td>I am not primarily a developer, but I write co...</td>\n",
       "      <td>Student, full-time</td>\n",
       "      <td>Russian Federation</td>\n",
       "      <td>NaN</td>\n",
       "      <td>NaN</td>\n",
       "      <td>Bachelor’s degree (B.A., B.S., B.Eng., etc.)</td>\n",
       "      <td>11 - 17 years</td>\n",
       "      <td>Other online resources (ex: videos, blogs, etc...</td>\n",
       "      <td>NaN</td>\n",
       "      <td>...</td>\n",
       "      <td>18-24 years old</td>\n",
       "      <td>Man</td>\n",
       "      <td>No</td>\n",
       "      <td>Prefer not to say</td>\n",
       "      <td>Prefer not to say</td>\n",
       "      <td>None of the above</td>\n",
       "      <td>None of the above</td>\n",
       "      <td>Appropriate in length</td>\n",
       "      <td>Easy</td>\n",
       "      <td>NaN</td>\n",
       "    </tr>\n",
       "    <tr>\n",
       "      <th>3</th>\n",
       "      <td>4</td>\n",
       "      <td>I am a developer by profession</td>\n",
       "      <td>Employed full-time</td>\n",
       "      <td>Austria</td>\n",
       "      <td>NaN</td>\n",
       "      <td>NaN</td>\n",
       "      <td>Master’s degree (M.A., M.S., M.Eng., MBA, etc.)</td>\n",
       "      <td>11 - 17 years</td>\n",
       "      <td>NaN</td>\n",
       "      <td>NaN</td>\n",
       "      <td>...</td>\n",
       "      <td>35-44 years old</td>\n",
       "      <td>Man</td>\n",
       "      <td>No</td>\n",
       "      <td>Straight / Heterosexual</td>\n",
       "      <td>White or of European descent</td>\n",
       "      <td>I am deaf / hard of hearing</td>\n",
       "      <td>NaN</td>\n",
       "      <td>Appropriate in length</td>\n",
       "      <td>Neither easy nor difficult</td>\n",
       "      <td>NaN</td>\n",
       "    </tr>\n",
       "    <tr>\n",
       "      <th>4</th>\n",
       "      <td>5</td>\n",
       "      <td>I am a developer by profession</td>\n",
       "      <td>Independent contractor, freelancer, or self-em...</td>\n",
       "      <td>United Kingdom of Great Britain and Northern I...</td>\n",
       "      <td>NaN</td>\n",
       "      <td>England</td>\n",
       "      <td>Master’s degree (M.A., M.S., M.Eng., MBA, etc.)</td>\n",
       "      <td>5 - 10 years</td>\n",
       "      <td>Friend or family member</td>\n",
       "      <td>17</td>\n",
       "      <td>...</td>\n",
       "      <td>25-34 years old</td>\n",
       "      <td>Man</td>\n",
       "      <td>No</td>\n",
       "      <td>NaN</td>\n",
       "      <td>White or of European descent</td>\n",
       "      <td>None of the above</td>\n",
       "      <td>NaN</td>\n",
       "      <td>Appropriate in length</td>\n",
       "      <td>Easy</td>\n",
       "      <td>NaN</td>\n",
       "    </tr>\n",
       "  </tbody>\n",
       "</table>\n",
       "<p>5 rows × 48 columns</p>\n",
       "</div>"
      ],
      "text/plain": [
       "   ResponseId                                         MainBranch  \\\n",
       "0           1                     I am a developer by profession   \n",
       "1           2             I am a student who is learning to code   \n",
       "2           3  I am not primarily a developer, but I write co...   \n",
       "3           4                     I am a developer by profession   \n",
       "4           5                     I am a developer by profession   \n",
       "\n",
       "                                          Employment  \\\n",
       "0  Independent contractor, freelancer, or self-em...   \n",
       "1                                 Student, full-time   \n",
       "2                                 Student, full-time   \n",
       "3                                 Employed full-time   \n",
       "4  Independent contractor, freelancer, or self-em...   \n",
       "\n",
       "                                             Country US_State UK_Country  \\\n",
       "0                                           Slovakia      NaN        NaN   \n",
       "1                                        Netherlands      NaN        NaN   \n",
       "2                                 Russian Federation      NaN        NaN   \n",
       "3                                            Austria      NaN        NaN   \n",
       "4  United Kingdom of Great Britain and Northern I...      NaN    England   \n",
       "\n",
       "                                             EdLevel     Age1stCode  \\\n",
       "0  Secondary school (e.g. American high school, G...  18 - 24 years   \n",
       "1       Bachelor’s degree (B.A., B.S., B.Eng., etc.)  11 - 17 years   \n",
       "2       Bachelor’s degree (B.A., B.S., B.Eng., etc.)  11 - 17 years   \n",
       "3    Master’s degree (M.A., M.S., M.Eng., MBA, etc.)  11 - 17 years   \n",
       "4    Master’s degree (M.A., M.S., M.Eng., MBA, etc.)   5 - 10 years   \n",
       "\n",
       "                                           LearnCode YearsCode  ...  \\\n",
       "0  Coding Bootcamp;Other online resources (ex: vi...       NaN  ...   \n",
       "1  Other online resources (ex: videos, blogs, etc...         7  ...   \n",
       "2  Other online resources (ex: videos, blogs, etc...       NaN  ...   \n",
       "3                                                NaN       NaN  ...   \n",
       "4                            Friend or family member        17  ...   \n",
       "\n",
       "               Age Gender Trans                Sexuality  \\\n",
       "0  25-34 years old    Man    No  Straight / Heterosexual   \n",
       "1  18-24 years old    Man    No  Straight / Heterosexual   \n",
       "2  18-24 years old    Man    No        Prefer not to say   \n",
       "3  35-44 years old    Man    No  Straight / Heterosexual   \n",
       "4  25-34 years old    Man    No                      NaN   \n",
       "\n",
       "                      Ethnicity                Accessibility  \\\n",
       "0  White or of European descent            None of the above   \n",
       "1  White or of European descent            None of the above   \n",
       "2             Prefer not to say            None of the above   \n",
       "3  White or of European descent  I am deaf / hard of hearing   \n",
       "4  White or of European descent            None of the above   \n",
       "\n",
       "        MentalHealth           SurveyLength                  SurveyEase  \\\n",
       "0  None of the above  Appropriate in length                        Easy   \n",
       "1  None of the above  Appropriate in length                        Easy   \n",
       "2  None of the above  Appropriate in length                        Easy   \n",
       "3                NaN  Appropriate in length  Neither easy nor difficult   \n",
       "4                NaN  Appropriate in length                        Easy   \n",
       "\n",
       "  ConvertedCompYearly  \n",
       "0             62268.0  \n",
       "1                 NaN  \n",
       "2                 NaN  \n",
       "3                 NaN  \n",
       "4                 NaN  \n",
       "\n",
       "[5 rows x 48 columns]"
      ]
     },
     "execution_count": 2,
     "metadata": {},
     "output_type": "execute_result"
    }
   ],
   "source": [
    "df = pd.read_csv('./survey_results_public.csv')\n",
    "df.head()"
   ]
  },
  {
   "cell_type": "code",
   "execution_count": 3,
   "id": "fbb3894d",
   "metadata": {},
   "outputs": [
    {
     "name": "stdout",
     "output_type": "stream",
     "text": [
      "Index(['ResponseId', 'MainBranch', 'Employment', 'Country', 'US_State',\n",
      "       'UK_Country', 'EdLevel', 'Age1stCode', 'LearnCode', 'YearsCode',\n",
      "       'YearsCodePro', 'DevType', 'OrgSize', 'Currency', 'CompTotal',\n",
      "       'CompFreq', 'LanguageHaveWorkedWith', 'LanguageWantToWorkWith',\n",
      "       'DatabaseHaveWorkedWith', 'DatabaseWantToWorkWith',\n",
      "       'PlatformHaveWorkedWith', 'PlatformWantToWorkWith',\n",
      "       'WebframeHaveWorkedWith', 'WebframeWantToWorkWith',\n",
      "       'MiscTechHaveWorkedWith', 'MiscTechWantToWorkWith',\n",
      "       'ToolsTechHaveWorkedWith', 'ToolsTechWantToWorkWith',\n",
      "       'NEWCollabToolsHaveWorkedWith', 'NEWCollabToolsWantToWorkWith', 'OpSys',\n",
      "       'NEWStuck', 'NEWSOSites', 'SOVisitFreq', 'SOAccount', 'SOPartFreq',\n",
      "       'SOComm', 'NEWOtherComms', 'Age', 'Gender', 'Trans', 'Sexuality',\n",
      "       'Ethnicity', 'Accessibility', 'MentalHealth', 'SurveyLength',\n",
      "       'SurveyEase', 'ConvertedCompYearly'],\n",
      "      dtype='object')\n"
     ]
    }
   ],
   "source": [
    "print(df.columns)"
   ]
  },
  {
   "cell_type": "markdown",
   "id": "67b532c7",
   "metadata": {},
   "source": [
    "### Data Understanding: Manipulation and Analysis\n",
    "- Visualizing the data distribution\n",
    "- Removing outliers\n",
    "- Cleaning the data"
   ]
  },
  {
   "cell_type": "code",
   "execution_count": 4,
   "id": "72e16356",
   "metadata": {},
   "outputs": [
    {
     "data": {
      "text/html": [
       "<div>\n",
       "<style scoped>\n",
       "    .dataframe tbody tr th:only-of-type {\n",
       "        vertical-align: middle;\n",
       "    }\n",
       "\n",
       "    .dataframe tbody tr th {\n",
       "        vertical-align: top;\n",
       "    }\n",
       "\n",
       "    .dataframe thead th {\n",
       "        text-align: right;\n",
       "    }\n",
       "</style>\n",
       "<table border=\"1\" class=\"dataframe\">\n",
       "  <thead>\n",
       "    <tr style=\"text-align: right;\">\n",
       "      <th></th>\n",
       "      <th>Country</th>\n",
       "      <th>Employment</th>\n",
       "      <th>EdLevel</th>\n",
       "      <th>YearsExperience</th>\n",
       "      <th>DevType</th>\n",
       "      <th>AnualSalary</th>\n",
       "    </tr>\n",
       "  </thead>\n",
       "  <tbody>\n",
       "    <tr>\n",
       "      <th>0</th>\n",
       "      <td>Slovakia</td>\n",
       "      <td>Independent contractor, freelancer, or self-em...</td>\n",
       "      <td>Secondary school (e.g. American high school, G...</td>\n",
       "      <td>NaN</td>\n",
       "      <td>Developer, mobile</td>\n",
       "      <td>62268.0</td>\n",
       "    </tr>\n",
       "    <tr>\n",
       "      <th>1</th>\n",
       "      <td>Netherlands</td>\n",
       "      <td>Student, full-time</td>\n",
       "      <td>Bachelor’s degree (B.A., B.S., B.Eng., etc.)</td>\n",
       "      <td>NaN</td>\n",
       "      <td>NaN</td>\n",
       "      <td>NaN</td>\n",
       "    </tr>\n",
       "    <tr>\n",
       "      <th>2</th>\n",
       "      <td>Russian Federation</td>\n",
       "      <td>Student, full-time</td>\n",
       "      <td>Bachelor’s degree (B.A., B.S., B.Eng., etc.)</td>\n",
       "      <td>NaN</td>\n",
       "      <td>NaN</td>\n",
       "      <td>NaN</td>\n",
       "    </tr>\n",
       "    <tr>\n",
       "      <th>3</th>\n",
       "      <td>Austria</td>\n",
       "      <td>Employed full-time</td>\n",
       "      <td>Master’s degree (M.A., M.S., M.Eng., MBA, etc.)</td>\n",
       "      <td>NaN</td>\n",
       "      <td>Developer, front-end</td>\n",
       "      <td>NaN</td>\n",
       "    </tr>\n",
       "    <tr>\n",
       "      <th>4</th>\n",
       "      <td>United Kingdom of Great Britain and Northern I...</td>\n",
       "      <td>Independent contractor, freelancer, or self-em...</td>\n",
       "      <td>Master’s degree (M.A., M.S., M.Eng., MBA, etc.)</td>\n",
       "      <td>10</td>\n",
       "      <td>Developer, desktop or enterprise applications;...</td>\n",
       "      <td>NaN</td>\n",
       "    </tr>\n",
       "  </tbody>\n",
       "</table>\n",
       "</div>"
      ],
      "text/plain": [
       "                                             Country  \\\n",
       "0                                           Slovakia   \n",
       "1                                        Netherlands   \n",
       "2                                 Russian Federation   \n",
       "3                                            Austria   \n",
       "4  United Kingdom of Great Britain and Northern I...   \n",
       "\n",
       "                                          Employment  \\\n",
       "0  Independent contractor, freelancer, or self-em...   \n",
       "1                                 Student, full-time   \n",
       "2                                 Student, full-time   \n",
       "3                                 Employed full-time   \n",
       "4  Independent contractor, freelancer, or self-em...   \n",
       "\n",
       "                                             EdLevel YearsExperience  \\\n",
       "0  Secondary school (e.g. American high school, G...             NaN   \n",
       "1       Bachelor’s degree (B.A., B.S., B.Eng., etc.)             NaN   \n",
       "2       Bachelor’s degree (B.A., B.S., B.Eng., etc.)             NaN   \n",
       "3    Master’s degree (M.A., M.S., M.Eng., MBA, etc.)             NaN   \n",
       "4    Master’s degree (M.A., M.S., M.Eng., MBA, etc.)              10   \n",
       "\n",
       "                                             DevType  AnualSalary  \n",
       "0                                  Developer, mobile      62268.0  \n",
       "1                                                NaN          NaN  \n",
       "2                                                NaN          NaN  \n",
       "3                               Developer, front-end          NaN  \n",
       "4  Developer, desktop or enterprise applications;...          NaN  "
      ]
     },
     "execution_count": 4,
     "metadata": {},
     "output_type": "execute_result"
    }
   ],
   "source": [
    "# only keeping the columns which might be relevant\n",
    "df = df[['Country', 'Employment', 'EdLevel', 'YearsCodePro', 'DevType', 'ConvertedCompYearly']]\n",
    "df = df.rename(columns={\"YearsCodePro\": \"YearsExperience\", \"ConvertedCompYearly\": \"AnualSalary\"})\n",
    "df.head()"
   ]
  },
  {
   "cell_type": "code",
   "execution_count": 5,
   "id": "5d90f41d",
   "metadata": {},
   "outputs": [
    {
     "data": {
      "text/plain": [
       "(83439, 6)"
      ]
     },
     "execution_count": 5,
     "metadata": {},
     "output_type": "execute_result"
    }
   ],
   "source": [
    "df.shape"
   ]
  },
  {
   "cell_type": "code",
   "execution_count": 6,
   "id": "d0a8e14a",
   "metadata": {},
   "outputs": [
    {
     "data": {
      "text/plain": [
       "Country                0\n",
       "Employment           116\n",
       "EdLevel              313\n",
       "YearsExperience    22223\n",
       "DevType            16955\n",
       "AnualSalary        36595\n",
       "dtype: int64"
      ]
     },
     "execution_count": 6,
     "metadata": {},
     "output_type": "execute_result"
    }
   ],
   "source": [
    "df.isnull().sum()"
   ]
  },
  {
   "cell_type": "code",
   "execution_count": 7,
   "id": "fdd1fd82",
   "metadata": {},
   "outputs": [
    {
     "data": {
      "text/html": [
       "<div>\n",
       "<style scoped>\n",
       "    .dataframe tbody tr th:only-of-type {\n",
       "        vertical-align: middle;\n",
       "    }\n",
       "\n",
       "    .dataframe tbody tr th {\n",
       "        vertical-align: top;\n",
       "    }\n",
       "\n",
       "    .dataframe thead th {\n",
       "        text-align: right;\n",
       "    }\n",
       "</style>\n",
       "<table border=\"1\" class=\"dataframe\">\n",
       "  <thead>\n",
       "    <tr style=\"text-align: right;\">\n",
       "      <th></th>\n",
       "      <th>Country</th>\n",
       "      <th>Employment</th>\n",
       "      <th>EdLevel</th>\n",
       "      <th>YearsExperience</th>\n",
       "      <th>DevType</th>\n",
       "      <th>AnualSalary</th>\n",
       "    </tr>\n",
       "  </thead>\n",
       "  <tbody>\n",
       "    <tr>\n",
       "      <th>0</th>\n",
       "      <td>Slovakia</td>\n",
       "      <td>Independent contractor, freelancer, or self-em...</td>\n",
       "      <td>Secondary school (e.g. American high school, G...</td>\n",
       "      <td>NaN</td>\n",
       "      <td>Developer, mobile</td>\n",
       "      <td>62268.0</td>\n",
       "    </tr>\n",
       "    <tr>\n",
       "      <th>9</th>\n",
       "      <td>Sweden</td>\n",
       "      <td>Employed full-time</td>\n",
       "      <td>Master’s degree (M.A., M.S., M.Eng., MBA, etc.)</td>\n",
       "      <td>4</td>\n",
       "      <td>Data scientist or machine learning specialist</td>\n",
       "      <td>51552.0</td>\n",
       "    </tr>\n",
       "    <tr>\n",
       "      <th>11</th>\n",
       "      <td>Spain</td>\n",
       "      <td>Employed full-time</td>\n",
       "      <td>Bachelor’s degree (B.A., B.S., B.Eng., etc.)</td>\n",
       "      <td>5</td>\n",
       "      <td>Developer, back-end</td>\n",
       "      <td>46482.0</td>\n",
       "    </tr>\n",
       "    <tr>\n",
       "      <th>12</th>\n",
       "      <td>Germany</td>\n",
       "      <td>Employed full-time</td>\n",
       "      <td>Master’s degree (M.A., M.S., M.Eng., MBA, etc.)</td>\n",
       "      <td>6</td>\n",
       "      <td>Developer, desktop or enterprise applications;...</td>\n",
       "      <td>77290.0</td>\n",
       "    </tr>\n",
       "    <tr>\n",
       "      <th>16</th>\n",
       "      <td>Turkey</td>\n",
       "      <td>Employed full-time</td>\n",
       "      <td>Bachelor’s degree (B.A., B.S., B.Eng., etc.)</td>\n",
       "      <td>2</td>\n",
       "      <td>Developer, full-stack</td>\n",
       "      <td>17748.0</td>\n",
       "    </tr>\n",
       "  </tbody>\n",
       "</table>\n",
       "</div>"
      ],
      "text/plain": [
       "     Country                                         Employment  \\\n",
       "0   Slovakia  Independent contractor, freelancer, or self-em...   \n",
       "9     Sweden                                 Employed full-time   \n",
       "11     Spain                                 Employed full-time   \n",
       "12   Germany                                 Employed full-time   \n",
       "16    Turkey                                 Employed full-time   \n",
       "\n",
       "                                              EdLevel YearsExperience  \\\n",
       "0   Secondary school (e.g. American high school, G...             NaN   \n",
       "9     Master’s degree (M.A., M.S., M.Eng., MBA, etc.)               4   \n",
       "11       Bachelor’s degree (B.A., B.S., B.Eng., etc.)               5   \n",
       "12    Master’s degree (M.A., M.S., M.Eng., MBA, etc.)               6   \n",
       "16       Bachelor’s degree (B.A., B.S., B.Eng., etc.)               2   \n",
       "\n",
       "                                              DevType  AnualSalary  \n",
       "0                                   Developer, mobile      62268.0  \n",
       "9       Data scientist or machine learning specialist      51552.0  \n",
       "11                                Developer, back-end      46482.0  \n",
       "12  Developer, desktop or enterprise applications;...      77290.0  \n",
       "16                              Developer, full-stack      17748.0  "
      ]
     },
     "execution_count": 7,
     "metadata": {},
     "output_type": "execute_result"
    }
   ],
   "source": [
    "#remove salaries which are NaN\n",
    "mask = df['AnualSalary'].notnull()\n",
    "df = df[mask]\n",
    "df.head()"
   ]
  },
  {
   "cell_type": "code",
   "execution_count": 8,
   "id": "8211e2c3",
   "metadata": {},
   "outputs": [
    {
     "data": {
      "text/plain": [
       "array(['Independent contractor, freelancer, or self-employed',\n",
       "       'Employed full-time', 'I prefer not to say', 'Employed part-time',\n",
       "       'Retired', nan], dtype=object)"
      ]
     },
     "execution_count": 8,
     "metadata": {},
     "output_type": "execute_result"
    }
   ],
   "source": [
    "df['Employment'].unique()"
   ]
  },
  {
   "cell_type": "code",
   "execution_count": 9,
   "id": "798ceed2",
   "metadata": {},
   "outputs": [],
   "source": [
    "# only keeping the users with Employed full-time for employment column\n",
    "mask = df['Employment'] == 'Employed full-time'\n",
    "df = df[mask]\n",
    "\n",
    "#drop the columns employment\n",
    "df.drop('Employment', axis=1, inplace=True)"
   ]
  },
  {
   "cell_type": "code",
   "execution_count": 10,
   "id": "9e3fc92b",
   "metadata": {},
   "outputs": [
    {
     "data": {
      "text/plain": [
       "Country              0\n",
       "EdLevel             19\n",
       "YearsExperience    399\n",
       "DevType             29\n",
       "AnualSalary          0\n",
       "dtype: int64"
      ]
     },
     "execution_count": 10,
     "metadata": {},
     "output_type": "execute_result"
    }
   ],
   "source": [
    "df.isnull().sum()"
   ]
  },
  {
   "cell_type": "markdown",
   "id": "d856b92c",
   "metadata": {},
   "source": [
    "#### Cleaning and Groupping the Years of Experience"
   ]
  },
  {
   "cell_type": "code",
   "execution_count": 11,
   "id": "84bf9c5b",
   "metadata": {},
   "outputs": [
    {
     "data": {
      "text/plain": [
       "array(['4', '5', '6', '2', '18', '21', '16', '10', 'Less than 1 year',\n",
       "       '15', '3', '1', '12', '8', nan, '17', '14', '7', '26', '34', '11',\n",
       "       '25', '24', '22', '13', '9', '20', '23', '39', '27', '35', '30',\n",
       "       '19', '33', '28', '37', '43', '40', '29', '38', '31', '45', '42',\n",
       "       '46', '32', '36', '47', '44', '41', 'More than 50 years', '50',\n",
       "       '49', '48'], dtype=object)"
      ]
     },
     "execution_count": 11,
     "metadata": {},
     "output_type": "execute_result"
    }
   ],
   "source": [
    "# let's examine the column YearsExperience\n",
    "\n",
    "df['YearsExperience'].unique()"
   ]
  },
  {
   "cell_type": "code",
   "execution_count": 12,
   "id": "29a5948e",
   "metadata": {},
   "outputs": [],
   "source": [
    "# going row by row to convert as float and also changing Less than 1 year and More than 50 years\n",
    "\n",
    "def clean_experience(row):\n",
    "    if row == 'Less than 1 year':\n",
    "        row = 0.5\n",
    "    if row == 'More than 50 years':\n",
    "        row = 50\n",
    "    \n",
    "    return float(row)"
   ]
  },
  {
   "cell_type": "code",
   "execution_count": 13,
   "id": "02188975",
   "metadata": {},
   "outputs": [],
   "source": [
    "df['YearsExperience'] = df['YearsExperience'].apply(clean_experience)"
   ]
  },
  {
   "cell_type": "code",
   "execution_count": 14,
   "id": "0fe42492",
   "metadata": {},
   "outputs": [
    {
     "data": {
      "text/plain": [
       "8.790705478771006"
      ]
     },
     "execution_count": 14,
     "metadata": {},
     "output_type": "execute_result"
    }
   ],
   "source": [
    "df['YearsExperience'].mean()"
   ]
  },
  {
   "cell_type": "code",
   "execution_count": 15,
   "id": "f6679ab8",
   "metadata": {},
   "outputs": [],
   "source": [
    "# assuming the mean is roughly 9, so I will replace NaN for 9\n",
    "\n",
    "df['YearsExperience'] = df['YearsExperience'].fillna(9)"
   ]
  },
  {
   "cell_type": "code",
   "execution_count": 16,
   "id": "8b16a877",
   "metadata": {},
   "outputs": [
    {
     "data": {
      "text/plain": [
       "array([ 4. ,  5. ,  6. ,  2. , 18. , 21. , 16. , 10. ,  0.5, 15. ,  3. ,\n",
       "        1. , 12. ,  8. ,  9. , 17. , 14. ,  7. , 26. , 34. , 11. , 25. ,\n",
       "       24. , 22. , 13. , 20. , 23. , 39. , 27. , 35. , 30. , 19. , 33. ,\n",
       "       28. , 37. , 43. , 40. , 29. , 38. , 31. , 45. , 42. , 46. , 32. ,\n",
       "       36. , 47. , 44. , 41. , 50. , 49. , 48. ])"
      ]
     },
     "execution_count": 16,
     "metadata": {},
     "output_type": "execute_result"
    }
   ],
   "source": [
    "df['YearsExperience'].unique()"
   ]
  },
  {
   "cell_type": "code",
   "execution_count": 17,
   "id": "5263c836",
   "metadata": {},
   "outputs": [
    {
     "data": {
      "text/html": [
       "<div>\n",
       "<style scoped>\n",
       "    .dataframe tbody tr th:only-of-type {\n",
       "        vertical-align: middle;\n",
       "    }\n",
       "\n",
       "    .dataframe tbody tr th {\n",
       "        vertical-align: top;\n",
       "    }\n",
       "\n",
       "    .dataframe thead th {\n",
       "        text-align: right;\n",
       "    }\n",
       "</style>\n",
       "<table border=\"1\" class=\"dataframe\">\n",
       "  <thead>\n",
       "    <tr style=\"text-align: right;\">\n",
       "      <th></th>\n",
       "      <th>YearsExperience</th>\n",
       "      <th>AnualSalary</th>\n",
       "    </tr>\n",
       "  </thead>\n",
       "  <tbody>\n",
       "    <tr>\n",
       "      <th>count</th>\n",
       "      <td>40627.000000</td>\n",
       "      <td>4.062700e+04</td>\n",
       "    </tr>\n",
       "    <tr>\n",
       "      <th>mean</th>\n",
       "      <td>8.792761</td>\n",
       "      <td>1.213697e+05</td>\n",
       "    </tr>\n",
       "    <tr>\n",
       "      <th>std</th>\n",
       "      <td>7.604091</td>\n",
       "      <td>4.982684e+05</td>\n",
       "    </tr>\n",
       "    <tr>\n",
       "      <th>min</th>\n",
       "      <td>0.500000</td>\n",
       "      <td>1.000000e+00</td>\n",
       "    </tr>\n",
       "    <tr>\n",
       "      <th>25%</th>\n",
       "      <td>3.000000</td>\n",
       "      <td>2.850000e+04</td>\n",
       "    </tr>\n",
       "    <tr>\n",
       "      <th>50%</th>\n",
       "      <td>6.000000</td>\n",
       "      <td>5.773200e+04</td>\n",
       "    </tr>\n",
       "    <tr>\n",
       "      <th>75%</th>\n",
       "      <td>12.000000</td>\n",
       "      <td>1.000000e+05</td>\n",
       "    </tr>\n",
       "    <tr>\n",
       "      <th>max</th>\n",
       "      <td>50.000000</td>\n",
       "      <td>3.046852e+07</td>\n",
       "    </tr>\n",
       "  </tbody>\n",
       "</table>\n",
       "</div>"
      ],
      "text/plain": [
       "       YearsExperience   AnualSalary\n",
       "count     40627.000000  4.062700e+04\n",
       "mean          8.792761  1.213697e+05\n",
       "std           7.604091  4.982684e+05\n",
       "min           0.500000  1.000000e+00\n",
       "25%           3.000000  2.850000e+04\n",
       "50%           6.000000  5.773200e+04\n",
       "75%          12.000000  1.000000e+05\n",
       "max          50.000000  3.046852e+07"
      ]
     },
     "execution_count": 17,
     "metadata": {},
     "output_type": "execute_result"
    }
   ],
   "source": [
    "df.describe()"
   ]
  },
  {
   "cell_type": "code",
   "execution_count": 18,
   "id": "1f822976",
   "metadata": {},
   "outputs": [],
   "source": [
    "# keeping only years which are below 97.5%  (0.975-quantile)\n",
    "\n",
    "mask = df['YearsExperience'] <= df['YearsExperience'].quantile(0.975)\n",
    "df = df[mask]"
   ]
  },
  {
   "cell_type": "code",
   "execution_count": 19,
   "id": "c8e21929",
   "metadata": {},
   "outputs": [
    {
     "data": {
      "text/plain": [
       "array([ 4. ,  5. ,  6. ,  2. , 18. , 21. , 16. , 10. ,  0.5, 15. ,  3. ,\n",
       "        1. , 12. ,  8. ,  9. , 17. , 14. ,  7. , 26. , 11. , 25. , 24. ,\n",
       "       22. , 13. , 20. , 23. , 27. , 30. , 19. , 28. , 29. ])"
      ]
     },
     "execution_count": 19,
     "metadata": {},
     "output_type": "execute_result"
    }
   ],
   "source": [
    "df['YearsExperience'].unique()"
   ]
  },
  {
   "cell_type": "code",
   "execution_count": 20,
   "id": "6b53b689",
   "metadata": {},
   "outputs": [
    {
     "data": {
      "text/plain": [
       "Country            0\n",
       "EdLevel            0\n",
       "YearsExperience    0\n",
       "DevType            0\n",
       "AnualSalary        0\n",
       "dtype: int64"
      ]
     },
     "execution_count": 20,
     "metadata": {},
     "output_type": "execute_result"
    }
   ],
   "source": [
    "# Drop the columns which still contains missing values.\n",
    "df.dropna(inplace=True)\n",
    "df.isnull().sum()"
   ]
  },
  {
   "cell_type": "code",
   "execution_count": 21,
   "id": "8d6e83cf",
   "metadata": {},
   "outputs": [
    {
     "data": {
      "text/html": [
       "<div>\n",
       "<style scoped>\n",
       "    .dataframe tbody tr th:only-of-type {\n",
       "        vertical-align: middle;\n",
       "    }\n",
       "\n",
       "    .dataframe tbody tr th {\n",
       "        vertical-align: top;\n",
       "    }\n",
       "\n",
       "    .dataframe thead th {\n",
       "        text-align: right;\n",
       "    }\n",
       "</style>\n",
       "<table border=\"1\" class=\"dataframe\">\n",
       "  <thead>\n",
       "    <tr style=\"text-align: right;\">\n",
       "      <th></th>\n",
       "      <th>Country</th>\n",
       "      <th>EdLevel</th>\n",
       "      <th>YearsExperience</th>\n",
       "      <th>DevType</th>\n",
       "      <th>AnualSalary</th>\n",
       "    </tr>\n",
       "  </thead>\n",
       "  <tbody>\n",
       "    <tr>\n",
       "      <th>9</th>\n",
       "      <td>Sweden</td>\n",
       "      <td>Master’s degree (M.A., M.S., M.Eng., MBA, etc.)</td>\n",
       "      <td>4.0</td>\n",
       "      <td>Data scientist or machine learning specialist</td>\n",
       "      <td>51552.0</td>\n",
       "    </tr>\n",
       "    <tr>\n",
       "      <th>11</th>\n",
       "      <td>Spain</td>\n",
       "      <td>Bachelor’s degree (B.A., B.S., B.Eng., etc.)</td>\n",
       "      <td>5.0</td>\n",
       "      <td>Developer, back-end</td>\n",
       "      <td>46482.0</td>\n",
       "    </tr>\n",
       "    <tr>\n",
       "      <th>12</th>\n",
       "      <td>Germany</td>\n",
       "      <td>Master’s degree (M.A., M.S., M.Eng., MBA, etc.)</td>\n",
       "      <td>6.0</td>\n",
       "      <td>Developer, desktop or enterprise applications;...</td>\n",
       "      <td>77290.0</td>\n",
       "    </tr>\n",
       "    <tr>\n",
       "      <th>16</th>\n",
       "      <td>Turkey</td>\n",
       "      <td>Bachelor’s degree (B.A., B.S., B.Eng., etc.)</td>\n",
       "      <td>2.0</td>\n",
       "      <td>Developer, full-stack</td>\n",
       "      <td>17748.0</td>\n",
       "    </tr>\n",
       "    <tr>\n",
       "      <th>17</th>\n",
       "      <td>Canada</td>\n",
       "      <td>Bachelor’s degree (B.A., B.S., B.Eng., etc.)</td>\n",
       "      <td>6.0</td>\n",
       "      <td>Developer, front-end;Developer, full-stack;Dev...</td>\n",
       "      <td>46135.0</td>\n",
       "    </tr>\n",
       "  </tbody>\n",
       "</table>\n",
       "</div>"
      ],
      "text/plain": [
       "    Country                                          EdLevel  YearsExperience  \\\n",
       "9    Sweden  Master’s degree (M.A., M.S., M.Eng., MBA, etc.)              4.0   \n",
       "11    Spain     Bachelor’s degree (B.A., B.S., B.Eng., etc.)              5.0   \n",
       "12  Germany  Master’s degree (M.A., M.S., M.Eng., MBA, etc.)              6.0   \n",
       "16   Turkey     Bachelor’s degree (B.A., B.S., B.Eng., etc.)              2.0   \n",
       "17   Canada     Bachelor’s degree (B.A., B.S., B.Eng., etc.)              6.0   \n",
       "\n",
       "                                              DevType  AnualSalary  \n",
       "9       Data scientist or machine learning specialist      51552.0  \n",
       "11                                Developer, back-end      46482.0  \n",
       "12  Developer, desktop or enterprise applications;...      77290.0  \n",
       "16                              Developer, full-stack      17748.0  \n",
       "17  Developer, front-end;Developer, full-stack;Dev...      46135.0  "
      ]
     },
     "execution_count": 21,
     "metadata": {},
     "output_type": "execute_result"
    }
   ],
   "source": [
    "df.head()"
   ]
  },
  {
   "cell_type": "markdown",
   "id": "c4f80089",
   "metadata": {},
   "source": [
    "#### Removing Countries and Job titles which appears with less frequency in the Dataframe"
   ]
  },
  {
   "cell_type": "code",
   "execution_count": 22,
   "id": "d93bab86",
   "metadata": {},
   "outputs": [
    {
     "name": "stdout",
     "output_type": "stream",
     "text": [
      "United States of America                                8811\n",
      "India                                                   3461\n",
      "Germany                                                 2738\n",
      "United Kingdom of Great Britain and Northern Ireland    2527\n",
      "Canada                                                  1524\n",
      "                                                        ... \n",
      "Saint Kitts and Nevis                                      1\n",
      "Monaco                                                     1\n",
      "Somalia                                                    1\n",
      "Libyan Arab Jamahiriya                                     1\n",
      "Burundi                                                    1\n",
      "Name: Country, Length: 166, dtype: int64\n",
      "United States of America\n",
      "8811\n"
     ]
    }
   ],
   "source": [
    "#Check the frequency / quantity of each country in the df\n",
    "\n",
    "print(df['Country'].value_counts())\n",
    "print(df['Country'].value_counts().index[0]) #get the first index\n",
    "print(df['Country'].value_counts().values[0]) #get the first value"
   ]
  },
  {
   "cell_type": "code",
   "execution_count": 23,
   "id": "3edd92dd",
   "metadata": {},
   "outputs": [],
   "source": [
    "# Define a function where group the countries which are less than the cutoff value set as Other.\n",
    "# Eliminate those countries which has less to get a better performece in the model.\n",
    "\n",
    "def cut_category(category, cutoff):\n",
    "    category_map = {}\n",
    "    \n",
    "    for i in range(len(category)):\n",
    "        if category.values[i] >= cutoff:\n",
    "            category_map[category.index[i]] = category.index[i]\n",
    "        \n",
    "        else:\n",
    "            category_map[category.index[i]] = 'Other'\n",
    "            \n",
    "    return category_map"
   ]
  },
  {
   "cell_type": "code",
   "execution_count": 24,
   "id": "e5b0e853",
   "metadata": {},
   "outputs": [],
   "source": [
    "# Set 400 is the minimun limit of data points for each country needed to train the model.\n",
    "country_map = cut_category(df['Country'].value_counts(), 400)"
   ]
  },
  {
   "cell_type": "code",
   "execution_count": 25,
   "id": "81bd595f",
   "metadata": {},
   "outputs": [
    {
     "data": {
      "text/plain": [
       "Other                                                   10755\n",
       "United States of America                                 8811\n",
       "India                                                    3461\n",
       "Germany                                                  2738\n",
       "United Kingdom of Great Britain and Northern Ireland     2527\n",
       "Canada                                                   1524\n",
       "France                                                   1394\n",
       "Brazil                                                   1339\n",
       "Spain                                                     887\n",
       "Netherlands                                               824\n",
       "Australia                                                 797\n",
       "Poland                                                    777\n",
       "Italy                                                     756\n",
       "Russian Federation                                        743\n",
       "Sweden                                                    734\n",
       "Turkey                                                    471\n",
       "Switzerland                                               435\n",
       "Israel                                                    421\n",
       "Norway                                                    400\n",
       "Name: Country, dtype: int64"
      ]
     },
     "execution_count": 25,
     "metadata": {},
     "output_type": "execute_result"
    }
   ],
   "source": [
    "df['Country'] = df['Country'].map(country_map)\n",
    "df['Country'].value_counts()"
   ]
  },
  {
   "cell_type": "code",
   "execution_count": 26,
   "id": "c3410197",
   "metadata": {},
   "outputs": [],
   "source": [
    "# remove the other in Country\n",
    "df = df[df['Country'] != 'Other']"
   ]
  },
  {
   "cell_type": "markdown",
   "id": "15326219",
   "metadata": {},
   "source": [
    "#### Cleaning the Job Title"
   ]
  },
  {
   "cell_type": "code",
   "execution_count": 27,
   "id": "522e5ec6",
   "metadata": {
    "scrolled": false
   },
   "outputs": [
    {
     "data": {
      "text/plain": [
       "Developer, full-stack                                                                                                                                                                                               4216\n",
       "Developer, back-end                                                                                                                                                                                                 2779\n",
       "Developer, front-end                                                                                                                                                                                                1073\n",
       "Developer, front-end;Developer, full-stack;Developer, back-end                                                                                                                                                       979\n",
       "Developer, full-stack;Developer, back-end                                                                                                                                                                            904\n",
       "                                                                                                                                                                                                                    ... \n",
       "Developer, mobile;Developer, front-end;Developer, full-stack;Developer, back-end;Developer, QA or test;Educator                                                                                                        1\n",
       "Developer, desktop or enterprise applications;Developer, full-stack;Developer, embedded applications or devices;Senior Executive (C-Suite, VP, etc.)                                                                   1\n",
       "Developer, mobile;Developer, front-end;Developer, full-stack;Developer, back-end;Developer, embedded applications or devices;System administrator                                                                      1\n",
       "Developer, mobile;Developer, front-end;Developer, full-stack;Data scientist or machine learning specialist;Developer, back-end;Data or business analyst;Engineering manager;System administrator;Product manager       1\n",
       "Developer, front-end;Developer, full-stack;Developer, back-end;Engineering manager;System administrator                                                                                                                1\n",
       "Name: DevType, Length: 4189, dtype: int64"
      ]
     },
     "execution_count": 27,
     "metadata": {},
     "output_type": "execute_result"
    }
   ],
   "source": [
    "df['DevType'].value_counts()"
   ]
  },
  {
   "cell_type": "code",
   "execution_count": 28,
   "id": "0a3c1dd3",
   "metadata": {},
   "outputs": [],
   "source": [
    "# For simplicity, resuming the developer type column to get the first part only.\n",
    "\n",
    "def dev_postion(row):\n",
    "    x = row.split(';')\n",
    "    return x[0]\n",
    "\n",
    "df['DevType'] = df['DevType'].apply(dev_postion)"
   ]
  },
  {
   "cell_type": "code",
   "execution_count": 29,
   "id": "d21acbab",
   "metadata": {},
   "outputs": [
    {
     "data": {
      "text/plain": [
       "Developer, full-stack                            7923\n",
       "Developer, front-end                             5813\n",
       "Developer, back-end                              4033\n",
       "Developer, mobile                                3365\n",
       "Developer, desktop or enterprise applications    2603\n",
       "Engineer, data                                   1081\n",
       "Data scientist or machine learning specialist     938\n",
       "Other (please specify):                           761\n",
       "Developer, embedded applications or devices       434\n",
       "Academic researcher                               392\n",
       "DevOps specialist                                 357\n",
       "Engineering manager                               253\n",
       "Developer, QA or test                             227\n",
       "Data or business analyst                          162\n",
       "Senior Executive (C-Suite, VP, etc.)              106\n",
       "Developer, game or graphics                       105\n",
       "System administrator                               89\n",
       "Database administrator                             88\n",
       "Scientist                                          77\n",
       "Engineer, site reliability                         77\n",
       "Product manager                                    55\n",
       "Educator                                           36\n",
       "Student                                            29\n",
       "Designer                                           24\n",
       "Marketing or sales professional                    11\n",
       "Name: DevType, dtype: int64"
      ]
     },
     "execution_count": 29,
     "metadata": {},
     "output_type": "execute_result"
    }
   ],
   "source": [
    "# Note it has Other (please specify) with 761 repetitions.\n",
    "\n",
    "df['DevType'].value_counts()"
   ]
  },
  {
   "cell_type": "code",
   "execution_count": 30,
   "id": "b7fe5aeb",
   "metadata": {},
   "outputs": [
    {
     "data": {
      "text/plain": [
       "Developer, full-stack                            7923\n",
       "Developer, front-end                             5813\n",
       "Developer, back-end                              4033\n",
       "Developer, mobile                                3365\n",
       "Developer, desktop or enterprise applications    2603\n",
       "Engineer, data                                   1081\n",
       "Data scientist or machine learning specialist     938\n",
       "Other (please specify):                           761\n",
       "Other                                             697\n",
       "Developer, embedded applications or devices       434\n",
       "Academic researcher                               392\n",
       "DevOps specialist                                 357\n",
       "Engineering manager                               253\n",
       "Developer, QA or test                             227\n",
       "Data or business analyst                          162\n",
       "Name: DevType, dtype: int64"
      ]
     },
     "execution_count": 30,
     "metadata": {},
     "output_type": "execute_result"
    }
   ],
   "source": [
    "#calling the same function again\n",
    "dev_map = cut_category(df['DevType'].value_counts(), 150)\n",
    "df['DevType'] = df['DevType'].map(dev_map)\n",
    "df['DevType'].value_counts()"
   ]
  },
  {
   "cell_type": "code",
   "execution_count": 31,
   "id": "c40472a9",
   "metadata": {},
   "outputs": [],
   "source": [
    "# Also, removing the other in DevType\n",
    "df = df[df['DevType'] != 'Other (please specify):']\n",
    "df = df[df['DevType'] != 'Other']"
   ]
  },
  {
   "cell_type": "markdown",
   "id": "4f530352",
   "metadata": {},
   "source": [
    "#### Examine the outliers for:\n",
    "- each country\n",
    "- each job type"
   ]
  },
  {
   "cell_type": "code",
   "execution_count": 32,
   "id": "33e68ad7",
   "metadata": {},
   "outputs": [
    {
     "data": {
      "text/html": [
       "<div>\n",
       "<style scoped>\n",
       "    .dataframe tbody tr th:only-of-type {\n",
       "        vertical-align: middle;\n",
       "    }\n",
       "\n",
       "    .dataframe tbody tr th {\n",
       "        vertical-align: top;\n",
       "    }\n",
       "\n",
       "    .dataframe thead th {\n",
       "        text-align: right;\n",
       "    }\n",
       "</style>\n",
       "<table border=\"1\" class=\"dataframe\">\n",
       "  <thead>\n",
       "    <tr style=\"text-align: right;\">\n",
       "      <th></th>\n",
       "      <th>YearsExperience</th>\n",
       "      <th>AnualSalary</th>\n",
       "    </tr>\n",
       "  </thead>\n",
       "  <tbody>\n",
       "    <tr>\n",
       "      <th>count</th>\n",
       "      <td>27581.000000</td>\n",
       "      <td>2.758100e+04</td>\n",
       "    </tr>\n",
       "    <tr>\n",
       "      <th>mean</th>\n",
       "      <td>8.604293</td>\n",
       "      <td>1.399983e+05</td>\n",
       "    </tr>\n",
       "    <tr>\n",
       "      <th>std</th>\n",
       "      <td>6.758613</td>\n",
       "      <td>5.076715e+05</td>\n",
       "    </tr>\n",
       "    <tr>\n",
       "      <th>min</th>\n",
       "      <td>0.500000</td>\n",
       "      <td>1.000000e+00</td>\n",
       "    </tr>\n",
       "    <tr>\n",
       "      <th>25%</th>\n",
       "      <td>3.000000</td>\n",
       "      <td>3.781600e+04</td>\n",
       "    </tr>\n",
       "    <tr>\n",
       "      <th>50%</th>\n",
       "      <td>7.000000</td>\n",
       "      <td>6.806800e+04</td>\n",
       "    </tr>\n",
       "    <tr>\n",
       "      <th>75%</th>\n",
       "      <td>12.000000</td>\n",
       "      <td>1.134470e+05</td>\n",
       "    </tr>\n",
       "    <tr>\n",
       "      <th>max</th>\n",
       "      <td>30.000000</td>\n",
       "      <td>2.000000e+07</td>\n",
       "    </tr>\n",
       "  </tbody>\n",
       "</table>\n",
       "</div>"
      ],
      "text/plain": [
       "       YearsExperience   AnualSalary\n",
       "count     27581.000000  2.758100e+04\n",
       "mean          8.604293  1.399983e+05\n",
       "std           6.758613  5.076715e+05\n",
       "min           0.500000  1.000000e+00\n",
       "25%           3.000000  3.781600e+04\n",
       "50%           7.000000  6.806800e+04\n",
       "75%          12.000000  1.134470e+05\n",
       "max          30.000000  2.000000e+07"
      ]
     },
     "execution_count": 32,
     "metadata": {},
     "output_type": "execute_result"
    }
   ],
   "source": [
    "df.describe()"
   ]
  },
  {
   "cell_type": "code",
   "execution_count": 33,
   "id": "30287a71",
   "metadata": {},
   "outputs": [
    {
     "data": {
      "image/png": "[encoded data removed]",
      "text/plain": [
       "<Figure size 864x432 with 1 Axes>"
      ]
     },
     "metadata": {
      "needs_background": "light"
     },
     "output_type": "display_data"
    }
   ],
   "source": [
    "fig, ax = plt.subplots(figsize=(12,6))\n",
    "ax = sns.boxplot(x=\"Country\", y=\"AnualSalary\",  data=df)\n",
    "ax.yaxis.grid(True)\n",
    "plt.title('Salary (USD) vs Country')\n",
    "plt.ylim(0, 1000000)\n",
    "plt.xticks(rotation=90)\n",
    "\n",
    "plt.show()"
   ]
  },
  {
   "cell_type": "code",
   "execution_count": 37,
   "id": "887f3136",
   "metadata": {},
   "outputs": [],
   "source": [
    "# Defining the min and max limit anual salary as quantile 0.025 and 0.90 for each country\n",
    "\n",
    "def remove_outliers_country(df, new_df):\n",
    "    countries = df['Country'].unique()\n",
    "    \n",
    "    for country in countries:\n",
    "        new_df_country = df[df['Country'] == country]\n",
    "        mask = (new_df_country['AnualSalary'] >= new_df_country['AnualSalary'].quantile(0.025)) & (new_df_country['AnualSalary'] <= new_df_country['AnualSalary'].quantile(0.90))\n",
    "        new_df_country = new_df_country[mask]\n",
    "        new_df = new_df.append(new_df_country, ignore_index = True)\n",
    "    \n",
    "    return new_df"
   ]
  },
  {
   "cell_type": "code",
   "execution_count": 38,
   "id": "ae5793dd",
   "metadata": {},
   "outputs": [],
   "source": [
    "new_df = pd.DataFrame(columns=['Country', 'EdLevel', 'YearsExperience', 'DevType', 'AnualSalary'])\n",
    "df = remove_outliers_country(df, new_df)"
   ]
  },
  {
   "cell_type": "code",
   "execution_count": 40,
   "id": "152ebfd7",
   "metadata": {
    "scrolled": true
   },
   "outputs": [
    {
     "data": {
      "text/plain": [
       "(24232, 5)"
      ]
     },
     "execution_count": 40,
     "metadata": {},
     "output_type": "execute_result"
    }
   ],
   "source": [
    "df.shape"
   ]
  },
  {
   "cell_type": "code",
   "execution_count": 41,
   "id": "7b17ee93",
   "metadata": {},
   "outputs": [
    {
     "data": {
      "image/png": "[encoded data removed]",
      "text/plain": [
       "<Figure size 864x432 with 1 Axes>"
      ]
     },
     "metadata": {
      "needs_background": "light"
     },
     "output_type": "display_data"
    }
   ],
   "source": [
    "# Plotting the graph again\n",
    "\n",
    "fig, ax = plt.subplots(figsize=(12,6))\n",
    "ax = sns.boxplot(x=\"Country\", y=\"AnualSalary\",  data=df)\n",
    "ax.yaxis.grid(True)\n",
    "plt.title('Salary (USD) vs Country')\n",
    "plt.xticks(rotation=90)\n",
    "\n",
    "plt.show()"
   ]
  },
  {
   "cell_type": "markdown",
   "id": "570f876f",
   "metadata": {},
   "source": [
    "#### Let's see the distribution of salary for each job"
   ]
  },
  {
   "cell_type": "code",
   "execution_count": 42,
   "id": "728b0e83",
   "metadata": {},
   "outputs": [
    {
     "data": {
      "image/png": "[encoded data removed]",
      "text/plain": [
       "<Figure size 1080x432 with 1 Axes>"
      ]
     },
     "metadata": {
      "needs_background": "light"
     },
     "output_type": "display_data"
    }
   ],
   "source": [
    "fig, ax = plt.subplots(figsize=(15,6))\n",
    "ax = sns.violinplot(x=\"DevType\", y=\"AnualSalary\",  data=df)\n",
    "plt.title('Distribution Salary (USD) vs Job')\n",
    "plt.xticks(rotation=90)\n",
    "\n",
    "plt.show()"
   ]
  },
  {
   "cell_type": "code",
   "execution_count": 43,
   "id": "697d91c1",
   "metadata": {},
   "outputs": [],
   "source": [
    "# removing the outliers with the same logic as above\n",
    "\n",
    "def remove_outliers_job(df, new_df):\n",
    "    jobs = df['DevType'].unique()\n",
    "    \n",
    "    for job in jobs:\n",
    "        new_df_job = df[df['DevType'] == job]\n",
    "        mask = (new_df_job['AnualSalary'] >= new_df_job['AnualSalary'].quantile(0.025)) & (new_df_job['AnualSalary'] <= new_df_job['AnualSalary'].quantile(0.90))\n",
    "        new_df_job = new_df_job[mask]\n",
    "        new_df = new_df.append(new_df_job, ignore_index = True)\n",
    "    \n",
    "    return new_df"
   ]
  },
  {
   "cell_type": "code",
   "execution_count": 44,
   "id": "a5225287",
   "metadata": {},
   "outputs": [],
   "source": [
    "new_df = pd.DataFrame(columns=['Country', 'EdLevel', 'YearsExperience', 'DevType', 'AnualSalary'])\n",
    "df = remove_outliers_job(df, new_df)"
   ]
  },
  {
   "cell_type": "code",
   "execution_count": 45,
   "id": "b7da230e",
   "metadata": {},
   "outputs": [
    {
     "data": {
      "image/png": "[encoded data removed]",
      "text/plain": [
       "<Figure size 864x432 with 1 Axes>"
      ]
     },
     "metadata": {
      "needs_background": "light"
     },
     "output_type": "display_data"
    }
   ],
   "source": [
    "fig, ax = plt.subplots(figsize=(12,6))\n",
    "ax = sns.boxplot(x=\"DevType\", y=\"AnualSalary\",  data=df)\n",
    "ax.yaxis.grid(True)\n",
    "plt.title('Salary (USD) vs Job')\n",
    "plt.xticks(rotation=90)\n",
    "\n",
    "plt.show()"
   ]
  },
  {
   "cell_type": "code",
   "execution_count": 46,
   "id": "74020d7a",
   "metadata": {},
   "outputs": [
    {
     "data": {
      "text/plain": [
       "(21267, 5)"
      ]
     },
     "execution_count": 46,
     "metadata": {},
     "output_type": "execute_result"
    }
   ],
   "source": [
    "df.shape"
   ]
  },
  {
   "cell_type": "markdown",
   "id": "a9ba306a",
   "metadata": {},
   "source": [
    "#### Cleaning and Groupping the Education levels"
   ]
  },
  {
   "cell_type": "code",
   "execution_count": 47,
   "id": "4c46e169",
   "metadata": {},
   "outputs": [
    {
     "data": {
      "text/plain": [
       "array(['Master’s degree (M.A., M.S., M.Eng., MBA, etc.)',\n",
       "       'Other doctoral degree (Ph.D., Ed.D., etc.)',\n",
       "       'Bachelor’s degree (B.A., B.S., B.Eng., etc.)',\n",
       "       'Some college/university study without earning a degree',\n",
       "       'Professional degree (JD, MD, etc.)',\n",
       "       'Secondary school (e.g. American high school, German Realschule or Gymnasium, etc.)',\n",
       "       'Something else', 'Associate degree (A.A., A.S., etc.)',\n",
       "       'Primary/elementary school'], dtype=object)"
      ]
     },
     "execution_count": 47,
     "metadata": {},
     "output_type": "execute_result"
    }
   ],
   "source": [
    "df['EdLevel'].unique()"
   ]
  },
  {
   "cell_type": "code",
   "execution_count": 48,
   "id": "620a6085",
   "metadata": {},
   "outputs": [],
   "source": [
    "def clean_education(row):\n",
    "    if 'Bachelor’s degree' in row:\n",
    "        return 'Bachelor’s degree'\n",
    "    elif 'Master’s degree' in row:\n",
    "        return 'Master’s degree'\n",
    "    elif 'Other doctoral' in row or 'Professional degree' in row:\n",
    "        return 'Postgraduate'\n",
    "    else:\n",
    "        return 'Less than a Bachelor’s'"
   ]
  },
  {
   "cell_type": "code",
   "execution_count": 49,
   "id": "cf2a842f",
   "metadata": {},
   "outputs": [],
   "source": [
    "df['EdLevel'] = df['EdLevel'].apply(clean_education)"
   ]
  },
  {
   "cell_type": "code",
   "execution_count": 50,
   "id": "6f70410e",
   "metadata": {},
   "outputs": [
    {
     "data": {
      "text/plain": [
       "array(['Master’s degree', 'Postgraduate', 'Bachelor’s degree',\n",
       "       'Less than a Bachelor’s'], dtype=object)"
      ]
     },
     "execution_count": 50,
     "metadata": {},
     "output_type": "execute_result"
    }
   ],
   "source": [
    "df['EdLevel'].unique()"
   ]
  },
  {
   "cell_type": "code",
   "execution_count": 51,
   "id": "bf58afde",
   "metadata": {},
   "outputs": [
    {
     "data": {
      "text/html": [
       "<div>\n",
       "<style scoped>\n",
       "    .dataframe tbody tr th:only-of-type {\n",
       "        vertical-align: middle;\n",
       "    }\n",
       "\n",
       "    .dataframe tbody tr th {\n",
       "        vertical-align: top;\n",
       "    }\n",
       "\n",
       "    .dataframe thead th {\n",
       "        text-align: right;\n",
       "    }\n",
       "</style>\n",
       "<table border=\"1\" class=\"dataframe\">\n",
       "  <thead>\n",
       "    <tr style=\"text-align: right;\">\n",
       "      <th></th>\n",
       "      <th>Country</th>\n",
       "      <th>EdLevel</th>\n",
       "      <th>YearsExperience</th>\n",
       "      <th>DevType</th>\n",
       "      <th>AnualSalary</th>\n",
       "    </tr>\n",
       "  </thead>\n",
       "  <tbody>\n",
       "    <tr>\n",
       "      <th>0</th>\n",
       "      <td>Sweden</td>\n",
       "      <td>Master’s degree</td>\n",
       "      <td>4.0</td>\n",
       "      <td>Data scientist or machine learning specialist</td>\n",
       "      <td>51552.0</td>\n",
       "    </tr>\n",
       "    <tr>\n",
       "      <th>1</th>\n",
       "      <td>Sweden</td>\n",
       "      <td>Master’s degree</td>\n",
       "      <td>9.0</td>\n",
       "      <td>Data scientist or machine learning specialist</td>\n",
       "      <td>57684.0</td>\n",
       "    </tr>\n",
       "    <tr>\n",
       "      <th>2</th>\n",
       "      <td>Sweden</td>\n",
       "      <td>Master’s degree</td>\n",
       "      <td>4.0</td>\n",
       "      <td>Data scientist or machine learning specialist</td>\n",
       "      <td>38292.0</td>\n",
       "    </tr>\n",
       "    <tr>\n",
       "      <th>3</th>\n",
       "      <td>Sweden</td>\n",
       "      <td>Postgraduate</td>\n",
       "      <td>10.0</td>\n",
       "      <td>Data scientist or machine learning specialist</td>\n",
       "      <td>78552.0</td>\n",
       "    </tr>\n",
       "    <tr>\n",
       "      <th>4</th>\n",
       "      <td>Sweden</td>\n",
       "      <td>Master’s degree</td>\n",
       "      <td>2.0</td>\n",
       "      <td>Data scientist or machine learning specialist</td>\n",
       "      <td>35412.0</td>\n",
       "    </tr>\n",
       "  </tbody>\n",
       "</table>\n",
       "</div>"
      ],
      "text/plain": [
       "  Country          EdLevel  YearsExperience  \\\n",
       "0  Sweden  Master’s degree              4.0   \n",
       "1  Sweden  Master’s degree              9.0   \n",
       "2  Sweden  Master’s degree              4.0   \n",
       "3  Sweden     Postgraduate             10.0   \n",
       "4  Sweden  Master’s degree              2.0   \n",
       "\n",
       "                                         DevType  AnualSalary  \n",
       "0  Data scientist or machine learning specialist      51552.0  \n",
       "1  Data scientist or machine learning specialist      57684.0  \n",
       "2  Data scientist or machine learning specialist      38292.0  \n",
       "3  Data scientist or machine learning specialist      78552.0  \n",
       "4  Data scientist or machine learning specialist      35412.0  "
      ]
     },
     "execution_count": 51,
     "metadata": {},
     "output_type": "execute_result"
    }
   ],
   "source": [
    "df.head()"
   ]
  },
  {
   "cell_type": "code",
   "execution_count": 52,
   "id": "87e21258",
   "metadata": {},
   "outputs": [
    {
     "data": {
      "image/png": "[encoded data removed]",
      "text/plain": [
       "<Figure size 1080x432 with 1 Axes>"
      ]
     },
     "metadata": {
      "needs_background": "light"
     },
     "output_type": "display_data"
    }
   ],
   "source": [
    "# let's examine the distribution of years vs salary.\n",
    "\n",
    "fig, ax = plt.subplots(figsize=(15,6))\n",
    "\n",
    "sns.lineplot(data=df, x=\"YearsExperience\", y=\"AnualSalary\")\n",
    "plt.title('Year of experience vs Salary (USD)')\n",
    "\n",
    "plt.show()"
   ]
  },
  {
   "cell_type": "code",
   "execution_count": 53,
   "id": "9156aada",
   "metadata": {},
   "outputs": [],
   "source": [
    "# saving it to use in the app later on\n",
    "df.to_csv('data_cleaned.csv', index = False)"
   ]
  },
  {
   "cell_type": "code",
   "execution_count": 54,
   "id": "a27b82da",
   "metadata": {},
   "outputs": [],
   "source": [
    "#loading the df\n",
    "df = pd.read_csv('data_cleaned.csv')"
   ]
  },
  {
   "cell_type": "markdown",
   "id": "639fc2d8",
   "metadata": {},
   "source": [
    "### Data Preprocessing and Modeling: \n",
    "- Prepocessing columns using skitlearn libraries: Standard Scale and Encoding categorical columns to numerical\n",
    "- Using GridSearch Cross Validation to choose hyperparameters for best model performace"
   ]
  },
  {
   "cell_type": "code",
   "execution_count": 55,
   "id": "18a20437",
   "metadata": {},
   "outputs": [
    {
     "data": {
      "text/html": [
       "<div>\n",
       "<style scoped>\n",
       "    .dataframe tbody tr th:only-of-type {\n",
       "        vertical-align: middle;\n",
       "    }\n",
       "\n",
       "    .dataframe tbody tr th {\n",
       "        vertical-align: top;\n",
       "    }\n",
       "\n",
       "    .dataframe thead th {\n",
       "        text-align: right;\n",
       "    }\n",
       "</style>\n",
       "<table border=\"1\" class=\"dataframe\">\n",
       "  <thead>\n",
       "    <tr style=\"text-align: right;\">\n",
       "      <th></th>\n",
       "      <th>Country</th>\n",
       "      <th>EdLevel</th>\n",
       "      <th>YearsExperience</th>\n",
       "      <th>DevType</th>\n",
       "      <th>AnualSalary</th>\n",
       "    </tr>\n",
       "  </thead>\n",
       "  <tbody>\n",
       "    <tr>\n",
       "      <th>0</th>\n",
       "      <td>Sweden</td>\n",
       "      <td>Master’s degree</td>\n",
       "      <td>4.0</td>\n",
       "      <td>Data scientist or machine learning specialist</td>\n",
       "      <td>51552.0</td>\n",
       "    </tr>\n",
       "    <tr>\n",
       "      <th>1</th>\n",
       "      <td>Sweden</td>\n",
       "      <td>Master’s degree</td>\n",
       "      <td>9.0</td>\n",
       "      <td>Data scientist or machine learning specialist</td>\n",
       "      <td>57684.0</td>\n",
       "    </tr>\n",
       "    <tr>\n",
       "      <th>2</th>\n",
       "      <td>Sweden</td>\n",
       "      <td>Master’s degree</td>\n",
       "      <td>4.0</td>\n",
       "      <td>Data scientist or machine learning specialist</td>\n",
       "      <td>38292.0</td>\n",
       "    </tr>\n",
       "    <tr>\n",
       "      <th>3</th>\n",
       "      <td>Sweden</td>\n",
       "      <td>Postgraduate</td>\n",
       "      <td>10.0</td>\n",
       "      <td>Data scientist or machine learning specialist</td>\n",
       "      <td>78552.0</td>\n",
       "    </tr>\n",
       "    <tr>\n",
       "      <th>4</th>\n",
       "      <td>Sweden</td>\n",
       "      <td>Master’s degree</td>\n",
       "      <td>2.0</td>\n",
       "      <td>Data scientist or machine learning specialist</td>\n",
       "      <td>35412.0</td>\n",
       "    </tr>\n",
       "  </tbody>\n",
       "</table>\n",
       "</div>"
      ],
      "text/plain": [
       "  Country          EdLevel  YearsExperience  \\\n",
       "0  Sweden  Master’s degree              4.0   \n",
       "1  Sweden  Master’s degree              9.0   \n",
       "2  Sweden  Master’s degree              4.0   \n",
       "3  Sweden     Postgraduate             10.0   \n",
       "4  Sweden  Master’s degree              2.0   \n",
       "\n",
       "                                         DevType  AnualSalary  \n",
       "0  Data scientist or machine learning specialist      51552.0  \n",
       "1  Data scientist or machine learning specialist      57684.0  \n",
       "2  Data scientist or machine learning specialist      38292.0  \n",
       "3  Data scientist or machine learning specialist      78552.0  \n",
       "4  Data scientist or machine learning specialist      35412.0  "
      ]
     },
     "execution_count": 55,
     "metadata": {},
     "output_type": "execute_result"
    }
   ],
   "source": [
    "df.head()"
   ]
  },
  {
   "cell_type": "code",
   "execution_count": 56,
   "id": "a4327546",
   "metadata": {},
   "outputs": [
    {
     "data": {
      "text/plain": [
       "(21267, 5)"
      ]
     },
     "execution_count": 56,
     "metadata": {},
     "output_type": "execute_result"
    }
   ],
   "source": [
    "df.shape"
   ]
  },
  {
   "cell_type": "code",
   "execution_count": 57,
   "id": "e10263d1",
   "metadata": {},
   "outputs": [
    {
     "data": {
      "text/plain": [
       "Country             object\n",
       "EdLevel             object\n",
       "YearsExperience    float64\n",
       "DevType             object\n",
       "AnualSalary        float64\n",
       "dtype: object"
      ]
     },
     "execution_count": 57,
     "metadata": {},
     "output_type": "execute_result"
    }
   ],
   "source": [
    "df.dtypes"
   ]
  },
  {
   "cell_type": "code",
   "execution_count": 58,
   "id": "ccdbb297",
   "metadata": {},
   "outputs": [
    {
     "name": "stdout",
     "output_type": "stream",
     "text": [
      "(21267, 4) (21267,)\n"
     ]
    }
   ],
   "source": [
    "# separating the dependent and independent variables\n",
    "X = df.drop('AnualSalary', axis=1)\n",
    "y = df['AnualSalary']\n",
    "print(X.shape, y.shape)"
   ]
  },
  {
   "cell_type": "code",
   "execution_count": 61,
   "id": "b68924a7",
   "metadata": {},
   "outputs": [
    {
     "name": "stdout",
     "output_type": "stream",
     "text": [
      "(17013, 4) (4254, 4) (17013,) (4254,)\n"
     ]
    }
   ],
   "source": [
    "from sklearn.model_selection import train_test_split\n",
    "\n",
    "X_train, X_test, y_train, y_test = train_test_split(X, y, test_size=0.2, random_state=1234)\n",
    "print(X_train.shape, X_test.shape, y_train.shape, y_test.shape)"
   ]
  },
  {
   "cell_type": "code",
   "execution_count": 62,
   "id": "68fd85a6",
   "metadata": {},
   "outputs": [],
   "source": [
    "from sklearn.preprocessing import StandardScaler, OneHotEncoder, OrdinalEncoder\n",
    "from sklearn.compose import make_column_transformer\n",
    "\n",
    "oe = OrdinalEncoder(categories = [['Less than a Bachelor’s', 'Bachelor’s degree', 'Master’s degree', 'Postgraduate']])\n",
    "ohe = OneHotEncoder(handle_unknown=\"ignore\")\n",
    "numeric_transformer = StandardScaler()\n",
    "ct = make_column_transformer((oe, ['EdLevel']), \n",
    "                             (ohe, ['Country', 'DevType']),\n",
    "                             (numeric_transformer, ['YearsExperience']),\n",
    "                             remainder='passthrough')\n",
    "\n",
    "X_train_new = ct.fit_transform(X_train)"
   ]
  },
  {
   "cell_type": "code",
   "execution_count": 76,
   "id": "9cfe5232",
   "metadata": {},
   "outputs": [],
   "source": [
    "from sklearn.linear_model import Lasso\n",
    "from sklearn.linear_model import ElasticNet\n",
    "from sklearn.tree import DecisionTreeRegressor\n",
    "from sklearn.neighbors import KNeighborsRegressor\n",
    "from sklearn.ensemble import RandomForestRegressor\n",
    "from sklearn.ensemble import GradientBoostingRegressor\n",
    "from sklearn.pipeline import make_pipeline\n",
    "\n",
    "# create one pipeline for each algorithm\n",
    "\n",
    "pipelines = {\n",
    "    'LS': make_pipeline(Lasso(max_iter=5000)),\n",
    "    'EN': make_pipeline(ElasticNet()),\n",
    "    'DT': make_pipeline(DecisionTreeRegressor()),\n",
    "    'KNN' : make_pipeline(KNeighborsRegressor()),\n",
    "    'RF' : make_pipeline(RandomForestRegressor()),\n",
    "    'GB' : make_pipeline(GradientBoostingRegressor())\n",
    "}"
   ]
  },
  {
   "cell_type": "code",
   "execution_count": 75,
   "id": "4bd23769",
   "metadata": {},
   "outputs": [
    {
     "data": {
      "text/plain": [
       "{'alpha': 1.0,\n",
       " 'copy_X': True,\n",
       " 'fit_intercept': True,\n",
       " 'max_iter': 1000,\n",
       " 'normalize': False,\n",
       " 'positive': False,\n",
       " 'precompute': False,\n",
       " 'random_state': None,\n",
       " 'selection': 'cyclic',\n",
       " 'tol': 0.0001,\n",
       " 'warm_start': False}"
      ]
     },
     "execution_count": 75,
     "metadata": {},
     "output_type": "execute_result"
    }
   ],
   "source": [
    "Lasso().get_params()"
   ]
  },
  {
   "cell_type": "code",
   "execution_count": 77,
   "id": "11f94e11",
   "metadata": {},
   "outputs": [
    {
     "data": {
      "text/plain": [
       "{'LS': Pipeline(steps=[('lasso', Lasso(max_iter=5000))]),\n",
       " 'EN': Pipeline(steps=[('elasticnet', ElasticNet())]),\n",
       " 'DT': Pipeline(steps=[('decisiontreeregressor', DecisionTreeRegressor())]),\n",
       " 'KNN': Pipeline(steps=[('kneighborsregressor', KNeighborsRegressor())]),\n",
       " 'RF': Pipeline(steps=[('randomforestregressor', RandomForestRegressor())]),\n",
       " 'GB': Pipeline(steps=[('gradientboostingregressor', GradientBoostingRegressor())])}"
      ]
     },
     "execution_count": 77,
     "metadata": {},
     "output_type": "execute_result"
    }
   ],
   "source": [
    "pipelines"
   ]
  },
  {
   "cell_type": "code",
   "execution_count": 78,
   "id": "9d3ba568",
   "metadata": {},
   "outputs": [],
   "source": [
    "hypergrid = {\n",
    "    'LS' : { \n",
    "            'lasso__alpha' : [0.001, 0.01, 0.1, 0.5, 0.99]    \n",
    "    },\n",
    "    'EN' : { \n",
    "            'elasticnet__alpha' : [0.001, 0.01, 0.1, 0.5, 0.99]    \n",
    "    },\n",
    "    'DT': {\n",
    "            'decisiontreeregressor__min_samples_leaf' : [1, 2, 3],\n",
    "           'decisiontreeregressor__min_samples_split' : [2, 4, 6]\n",
    "    },\n",
    "    'KNN' : {\n",
    "            'kneighborsregressor__n_neighbors' : [7, 9, 11],\n",
    "            'kneighborsregressor__leaf_size' : [50, 60]\n",
    "    },\n",
    "    'RF' : {\n",
    "            'randomforestregressor__min_samples_split' : [2, 4, 6],\n",
    "            'randomforestregressor__min_samples_leaf' : [1, 2, 3]\n",
    "    },\n",
    "    'GB' : {\n",
    "            'gradientboostingregressor__alpha' : [0.001, 0.01, 0.1, 0.5, 0.99],\n",
    "            'gradientboostingregressor__max_depth' : [4, 5, 6],\n",
    "            'gradientboostingregressor__min_samples_split' : [2, 4, 6],\n",
    "            'gradientboostingregressor__min_samples_leaf' : [1, 2, 3]\n",
    "    }\n",
    "}"
   ]
  },
  {
   "cell_type": "code",
   "execution_count": 79,
   "id": "8fce6867",
   "metadata": {},
   "outputs": [
    {
     "name": "stdout",
     "output_type": "stream",
     "text": [
      "Starting training LS model.\n",
      "The LS model has been successfuly fit.\n",
      "Starting training EN model.\n",
      "The EN model has been successfuly fit.\n",
      "Starting training DT model.\n",
      "The DT model has been successfuly fit.\n",
      "Starting training KNN model.\n",
      "The KNN model has been successfuly fit.\n",
      "Starting training RF model.\n",
      "The RF model has been successfuly fit.\n",
      "Starting training GB model.\n",
      "The GB model has been successfuly fit.\n"
     ]
    }
   ],
   "source": [
    "from sklearn.model_selection import GridSearchCV\n",
    "from sklearn.exceptions import NotFittedError\n",
    "\n",
    "results_model = {}\n",
    "\n",
    "for algo, pipeline in pipelines.items():\n",
    "    model = GridSearchCV(pipeline, hypergrid[algo], cv=5, scoring='r2', n_jobs=-1)\n",
    "    \n",
    "    try:\n",
    "        print(f'Starting training {algo} model.')\n",
    "        model.fit(X_train_new, y_train)\n",
    "        results_model[algo] = model\n",
    "        print(f'The {algo} model has been successfuly fit.')\n",
    "    except NotFittedError as e:\n",
    "        print(repr(e))"
   ]
  },
  {
   "cell_type": "code",
   "execution_count": 80,
   "id": "656c7250",
   "metadata": {},
   "outputs": [
    {
     "name": "stdout",
     "output_type": "stream",
     "text": [
      "The score of the LS is: 0.7314517746829488\n",
      "The score of the EN is: 0.7313708889149402\n",
      "The score of the DT is: 0.7003203450173896\n",
      "The score of the KNN is: 0.7271607707922534\n",
      "The score of the RF is: 0.7320846234935733\n",
      "The score of the GB is: 0.7520282946637566\n"
     ]
    }
   ],
   "source": [
    "for algo in results_model.keys():\n",
    "    print(f'The score of the {algo} is:', results_model[algo].best_score_)"
   ]
  },
  {
   "cell_type": "code",
   "execution_count": 81,
   "id": "365cb32e",
   "metadata": {},
   "outputs": [
    {
     "data": {
      "text/html": [
       "<div>\n",
       "<style scoped>\n",
       "    .dataframe tbody tr th:only-of-type {\n",
       "        vertical-align: middle;\n",
       "    }\n",
       "\n",
       "    .dataframe tbody tr th {\n",
       "        vertical-align: top;\n",
       "    }\n",
       "\n",
       "    .dataframe thead th {\n",
       "        text-align: right;\n",
       "    }\n",
       "</style>\n",
       "<table border=\"1\" class=\"dataframe\">\n",
       "  <thead>\n",
       "    <tr style=\"text-align: right;\">\n",
       "      <th></th>\n",
       "      <th>mean_fit_time</th>\n",
       "      <th>std_fit_time</th>\n",
       "      <th>mean_score_time</th>\n",
       "      <th>std_score_time</th>\n",
       "      <th>param_gradientboostingregressor__alpha</th>\n",
       "      <th>param_gradientboostingregressor__max_depth</th>\n",
       "      <th>param_gradientboostingregressor__min_samples_leaf</th>\n",
       "      <th>param_gradientboostingregressor__min_samples_split</th>\n",
       "      <th>params</th>\n",
       "      <th>split0_test_score</th>\n",
       "      <th>split1_test_score</th>\n",
       "      <th>split2_test_score</th>\n",
       "      <th>split3_test_score</th>\n",
       "      <th>split4_test_score</th>\n",
       "      <th>mean_test_score</th>\n",
       "      <th>std_test_score</th>\n",
       "      <th>rank_test_score</th>\n",
       "    </tr>\n",
       "  </thead>\n",
       "  <tbody>\n",
       "    <tr>\n",
       "      <th>71</th>\n",
       "      <td>1.691619</td>\n",
       "      <td>0.013986</td>\n",
       "      <td>0.018746</td>\n",
       "      <td>0.006251</td>\n",
       "      <td>0.1</td>\n",
       "      <td>5</td>\n",
       "      <td>3</td>\n",
       "      <td>6</td>\n",
       "      <td>{'gradientboostingregressor__alpha': 0.1, 'gra...</td>\n",
       "      <td>0.745675</td>\n",
       "      <td>0.749304</td>\n",
       "      <td>0.758590</td>\n",
       "      <td>0.745442</td>\n",
       "      <td>0.761130</td>\n",
       "      <td>0.752028</td>\n",
       "      <td>0.006589</td>\n",
       "      <td>1</td>\n",
       "    </tr>\n",
       "    <tr>\n",
       "      <th>124</th>\n",
       "      <td>1.715945</td>\n",
       "      <td>0.018580</td>\n",
       "      <td>0.021469</td>\n",
       "      <td>0.007190</td>\n",
       "      <td>0.99</td>\n",
       "      <td>5</td>\n",
       "      <td>3</td>\n",
       "      <td>4</td>\n",
       "      <td>{'gradientboostingregressor__alpha': 0.99, 'gr...</td>\n",
       "      <td>0.745675</td>\n",
       "      <td>0.749304</td>\n",
       "      <td>0.758588</td>\n",
       "      <td>0.745442</td>\n",
       "      <td>0.761130</td>\n",
       "      <td>0.752028</td>\n",
       "      <td>0.006588</td>\n",
       "      <td>2</td>\n",
       "    </tr>\n",
       "    <tr>\n",
       "      <th>98</th>\n",
       "      <td>1.683978</td>\n",
       "      <td>0.011689</td>\n",
       "      <td>0.021870</td>\n",
       "      <td>0.007652</td>\n",
       "      <td>0.5</td>\n",
       "      <td>5</td>\n",
       "      <td>3</td>\n",
       "      <td>6</td>\n",
       "      <td>{'gradientboostingregressor__alpha': 0.5, 'gra...</td>\n",
       "      <td>0.745671</td>\n",
       "      <td>0.749311</td>\n",
       "      <td>0.758590</td>\n",
       "      <td>0.745442</td>\n",
       "      <td>0.761125</td>\n",
       "      <td>0.752028</td>\n",
       "      <td>0.006588</td>\n",
       "      <td>3</td>\n",
       "    </tr>\n",
       "    <tr>\n",
       "      <th>44</th>\n",
       "      <td>1.680628</td>\n",
       "      <td>0.006249</td>\n",
       "      <td>0.028121</td>\n",
       "      <td>0.006251</td>\n",
       "      <td>0.01</td>\n",
       "      <td>5</td>\n",
       "      <td>3</td>\n",
       "      <td>6</td>\n",
       "      <td>{'gradientboostingregressor__alpha': 0.01, 'gr...</td>\n",
       "      <td>0.745675</td>\n",
       "      <td>0.749304</td>\n",
       "      <td>0.758588</td>\n",
       "      <td>0.745442</td>\n",
       "      <td>0.761125</td>\n",
       "      <td>0.752027</td>\n",
       "      <td>0.006587</td>\n",
       "      <td>4</td>\n",
       "    </tr>\n",
       "    <tr>\n",
       "      <th>70</th>\n",
       "      <td>1.704342</td>\n",
       "      <td>0.010455</td>\n",
       "      <td>0.024996</td>\n",
       "      <td>0.007653</td>\n",
       "      <td>0.1</td>\n",
       "      <td>5</td>\n",
       "      <td>3</td>\n",
       "      <td>4</td>\n",
       "      <td>{'gradientboostingregressor__alpha': 0.1, 'gra...</td>\n",
       "      <td>0.745675</td>\n",
       "      <td>0.749304</td>\n",
       "      <td>0.758588</td>\n",
       "      <td>0.745442</td>\n",
       "      <td>0.761125</td>\n",
       "      <td>0.752027</td>\n",
       "      <td>0.006587</td>\n",
       "      <td>5</td>\n",
       "    </tr>\n",
       "  </tbody>\n",
       "</table>\n",
       "</div>"
      ],
      "text/plain": [
       "     mean_fit_time  std_fit_time  mean_score_time  std_score_time  \\\n",
       "71        1.691619      0.013986         0.018746        0.006251   \n",
       "124       1.715945      0.018580         0.021469        0.007190   \n",
       "98        1.683978      0.011689         0.021870        0.007652   \n",
       "44        1.680628      0.006249         0.028121        0.006251   \n",
       "70        1.704342      0.010455         0.024996        0.007653   \n",
       "\n",
       "    param_gradientboostingregressor__alpha  \\\n",
       "71                                     0.1   \n",
       "124                                   0.99   \n",
       "98                                     0.5   \n",
       "44                                    0.01   \n",
       "70                                     0.1   \n",
       "\n",
       "    param_gradientboostingregressor__max_depth  \\\n",
       "71                                           5   \n",
       "124                                          5   \n",
       "98                                           5   \n",
       "44                                           5   \n",
       "70                                           5   \n",
       "\n",
       "    param_gradientboostingregressor__min_samples_leaf  \\\n",
       "71                                                  3   \n",
       "124                                                 3   \n",
       "98                                                  3   \n",
       "44                                                  3   \n",
       "70                                                  3   \n",
       "\n",
       "    param_gradientboostingregressor__min_samples_split  \\\n",
       "71                                                   6   \n",
       "124                                                  4   \n",
       "98                                                   6   \n",
       "44                                                   6   \n",
       "70                                                   4   \n",
       "\n",
       "                                                params  split0_test_score  \\\n",
       "71   {'gradientboostingregressor__alpha': 0.1, 'gra...           0.745675   \n",
       "124  {'gradientboostingregressor__alpha': 0.99, 'gr...           0.745675   \n",
       "98   {'gradientboostingregressor__alpha': 0.5, 'gra...           0.745671   \n",
       "44   {'gradientboostingregressor__alpha': 0.01, 'gr...           0.745675   \n",
       "70   {'gradientboostingregressor__alpha': 0.1, 'gra...           0.745675   \n",
       "\n",
       "     split1_test_score  split2_test_score  split3_test_score  \\\n",
       "71            0.749304           0.758590           0.745442   \n",
       "124           0.749304           0.758588           0.745442   \n",
       "98            0.749311           0.758590           0.745442   \n",
       "44            0.749304           0.758588           0.745442   \n",
       "70            0.749304           0.758588           0.745442   \n",
       "\n",
       "     split4_test_score  mean_test_score  std_test_score  rank_test_score  \n",
       "71            0.761130         0.752028        0.006589                1  \n",
       "124           0.761130         0.752028        0.006588                2  \n",
       "98            0.761125         0.752028        0.006588                3  \n",
       "44            0.761125         0.752027        0.006587                4  \n",
       "70            0.761125         0.752027        0.006587                5  "
      ]
     },
     "execution_count": 81,
     "metadata": {},
     "output_type": "execute_result"
    }
   ],
   "source": [
    "#During the GridSearch CV using Cross Validation = 5, the model which perfomed well was GB.\n",
    "#Let's take a look in it\n",
    "\n",
    "result_gb = pd.DataFrame(results_model['GB'].cv_results_)\n",
    "result_gb.sort_values(by='rank_test_score').head()"
   ]
  },
  {
   "cell_type": "markdown",
   "id": "fa924461",
   "metadata": {},
   "source": [
    "#### Model evaluation:\n",
    "- R2 and Mean Absolute Error to evaluate the models performace using new data (X_test), even it already have done when in GridSearch CV with 5 K-Folds using X_train."
   ]
  },
  {
   "cell_type": "code",
   "execution_count": 83,
   "id": "d0e69c67",
   "metadata": {},
   "outputs": [
    {
     "name": "stdout",
     "output_type": "stream",
     "text": [
      "The LS scores are R2: 0.7392682143426363 , MAE: 14214.961521671561\n",
      "The EN scores are R2: 0.7391173901357768 , MAE: 14222.870718770666\n",
      "The DT scores are R2: 0.704281658874903 , MAE: 14914.344277473256\n",
      "The KNN scores are R2: 0.7283186542566911 , MAE: 14427.516861136042\n",
      "The RF scores are R2: 0.7352341559708064 , MAE: 14123.79235620768\n",
      "The GB scores are R2: 0.7584125077488253 , MAE: 13612.267486729896\n"
     ]
    }
   ],
   "source": [
    "# evaluating the model\n",
    "\n",
    "from sklearn.metrics import r2_score, mean_absolute_error\n",
    "\n",
    "for algo, model in results_model.items():\n",
    "    X_new = ct.transform(X_test)\n",
    "    y_pred = model.predict(X_new)\n",
    "    r2 = r2_score(y_test, y_pred)\n",
    "    mae = mean_absolute_error(y_test, y_pred)\n",
    "    print(f'The {algo} scores are R2: {r2} , MAE: {mae}')"
   ]
  },
  {
   "cell_type": "markdown",
   "id": "cce279e6",
   "metadata": {},
   "source": [
    "#### I could still try to hypertune even more or try to clean the data / remove outliers to get a better performace"
   ]
  },
  {
   "cell_type": "code",
   "execution_count": 84,
   "id": "a6643a4e",
   "metadata": {},
   "outputs": [],
   "source": [
    "best_model = results_model['GB']"
   ]
  },
  {
   "cell_type": "code",
   "execution_count": 85,
   "id": "3a9539bd",
   "metadata": {},
   "outputs": [],
   "source": [
    "# predict from new data:\n",
    "\n",
    "data = np.array([['Brazil', 'Bachelor’s degree', 5, 'Developer, front-end']])\n",
    "\n",
    "df_inputs = pd.DataFrame(data, columns=['Country', 'EdLevel', 'YearsExperience', 'DevType'])\n",
    "df_inputs['YearsExperience'] = pd.to_numeric(df_inputs['YearsExperience'], downcast='float')"
   ]
  },
  {
   "cell_type": "code",
   "execution_count": 86,
   "id": "64036c0c",
   "metadata": {},
   "outputs": [
    {
     "data": {
      "text/plain": [
       "Country             object\n",
       "EdLevel             object\n",
       "YearsExperience    float32\n",
       "DevType             object\n",
       "dtype: object"
      ]
     },
     "execution_count": 86,
     "metadata": {},
     "output_type": "execute_result"
    }
   ],
   "source": [
    "df_inputs.dtypes"
   ]
  },
  {
   "cell_type": "code",
   "execution_count": 87,
   "id": "6f596231",
   "metadata": {},
   "outputs": [],
   "source": [
    "# transform the columns using the column transform which was fit and trained above\n",
    "df_inputs_transformed = ct.transform(df_inputs)"
   ]
  },
  {
   "cell_type": "code",
   "execution_count": 88,
   "id": "7a6b84c2",
   "metadata": {},
   "outputs": [
    {
     "data": {
      "text/plain": [
       "array([25408.86219694])"
      ]
     },
     "execution_count": 88,
     "metadata": {},
     "output_type": "execute_result"
    }
   ],
   "source": [
    "y_pred = best_model.predict(df_inputs_transformed)\n",
    "y_pred"
   ]
  },
  {
   "cell_type": "markdown",
   "id": "6ca9db0f",
   "metadata": {},
   "source": [
    "#### Saving the preprocessor and the best model"
   ]
  },
  {
   "cell_type": "code",
   "execution_count": 89,
   "id": "bb63c5f8",
   "metadata": {},
   "outputs": [],
   "source": [
    "import pickle\n",
    "\n",
    "data = {'model': best_model , 'column_transormer' : ct}\n",
    "\n",
    "with open('preprocessor&model.pkl', 'wb') as file:\n",
    "    pickle.dump(data, file)"
   ]
  },
  {
   "cell_type": "code",
   "execution_count": 90,
   "id": "ecde0e56",
   "metadata": {},
   "outputs": [],
   "source": [
    "# load saved model\n",
    "with open('preprocessor&model.pkl' , 'rb') as file:\n",
    "    data = pickle.load(file)"
   ]
  },
  {
   "cell_type": "code",
   "execution_count": 91,
   "id": "8ac75eb5",
   "metadata": {},
   "outputs": [],
   "source": [
    "regressor_model = data['model']\n",
    "preprocessor = data['column_transormer']"
   ]
  },
  {
   "cell_type": "code",
   "execution_count": 94,
   "id": "efc2f2e5",
   "metadata": {},
   "outputs": [
    {
     "data": {
      "text/plain": [
       "array([25408.86219694])"
      ]
     },
     "execution_count": 94,
     "metadata": {},
     "output_type": "execute_result"
    }
   ],
   "source": [
    "df_inputs_transformed = preprocessor.transform(df_inputs)\n",
    "y_pred = regressor_model.predict(df_inputs_transformed)\n",
    "y_pred"
   ]
  }
 ],
 "metadata": {
  "kernelspec": {
   "display_name": "Python 3 (ipykernel)",
   "language": "python",
   "name": "python3"
  },
  "language_info": {
   "codemirror_mode": {
    "name": "ipython",
    "version": 3
   },
   "file_extension": ".py",
   "mimetype": "text/x-python",
   "name": "python",
   "nbconvert_exporter": "python",
   "pygments_lexer": "ipython3",
   "version": "3.9.7"
  }
 },
 "nbformat": 4,
 "nbformat_minor": 5
}
